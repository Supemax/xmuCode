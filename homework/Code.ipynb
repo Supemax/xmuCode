{
 "cells": [
  {
   "cell_type": "code",
   "execution_count": null,
   "id": "3d912983-e2dd-4322-a4f7-1f5ac2c6db1a",
   "metadata": {},
   "outputs": [],
   "source": [
    "import pandas as pd\n",
    "import numpy as np\n",
    "from sklearn.model_selection import cross_val_score\n",
    "from sklearn.datasets import make_blobs\n",
    "from sklearn.ensemble import RandomForestClassifier\n",
    "from sklearn.ensemble import ExtraTreesClassifier\n",
    "from sklearn.tree import DecisionTreeClassifier"
   ]
  },
  {
   "cell_type": "code",
   "execution_count": null,
   "id": "e957adf7-3aef-485c-8f47-034dd5622bdd",
   "metadata": {},
   "outputs": [],
   "source": [
    "data = np.loadtxt('./kddtrain2021.txt', dtype=np.float32, delimiter=' ')\n",
    "data2 = np.loadtxt('./kddtest2021.txt', dtype=np.float32, delimiter='\\t')\n",
    "matrix = np.mat(data)\n",
    "matrix_x=matrix[:,0:-1]\n",
    "matrix_y=matrix[:,-1]\n",
    "matrix_=matrix_x.I*matrix_y\n",
    "y = data[:,-1].tolist()\n",
    "for i in range(len(y)):\n",
    "    y[i]=int(y[i])\n",
    "X = np.array(data[:,:-1])\n",
    "y1 = data[0:6260,-1].tolist()\n",
    "X1 = np.array(data[0:6260,:-1])\n",
    "y2 = data[6260:,-1].tolist()\n",
    "X2 = np.array(data[6260:,:-1])\n",
    "Xt = np.array(data2[:,:])"
   ]
  },
  {
   "cell_type": "code",
   "execution_count": null,
   "id": "518d42b5-5bc6-4119-ba39-bf0471707307",
   "metadata": {},
   "outputs": [
    {
     "data": {
      "text/plain": [
       "(6270, 100)"
      ]
     },
     "execution_count": 15,
     "metadata": {},
     "output_type": "execute_result"
    }
   ],
   "source": [
    "X.shape"
   ]
  },
  {
   "cell_type": "code",
   "execution_count": null,
   "id": "6662d629-0c4e-432f-8ea7-60e57558eaf2",
   "metadata": {},
   "outputs": [
    {
     "name": "stdout",
     "output_type": "stream",
     "text": [
      "0.95103668261563\n"
     ]
    }
   ],
   "source": [
    "## 决策树\n",
    "clf1 = DecisionTreeClassifier(max_depth=None, min_samples_split=2,random_state=0)\n",
    "scores1 = cross_val_score(clf1, X, y)\n",
    "print(scores1.mean())"
   ]
  },
  {
   "cell_type": "code",
   "execution_count": 5,
   "id": "48c852c9-b4f1-4db6-8494-f58905168048",
   "metadata": {},
   "outputs": [
    {
     "name": "stdout",
     "output_type": "stream",
     "text": [
      "0.9875598086124402\n",
      "0.9875598086124402\n"
     ]
    }
   ],
   "source": [
    "## 随机森林\n",
    "clf2 = RandomForestClassifier(n_estimators=1000, max_depth=None,min_samples_split=10, random_state=4,n_jobs=-1)\n",
    "scores2 = cross_val_score(clf2, X, y)\n",
    "print(scores2.mean())\n",
    "\n",
    "clf22 = RandomForestClassifier(n_estimators=100, max_depth=None,min_samples_split=10, random_state=4,n_jobs=-1)\n",
    "scores22 = cross_val_score(clf22, X, y)\n",
    "print(scores22.mean())"
   ]
  },
  {
   "cell_type": "code",
   "execution_count": null,
   "id": "0b93ce50-5b27-4296-9b93-35a0eaaba2fe",
   "metadata": {},
   "outputs": [],
   "source": []
  },
  {
   "cell_type": "code",
   "execution_count": 3,
   "id": "41ee7699-cfef-4959-bcbe-706538f03310",
   "metadata": {},
   "outputs": [
    {
     "name": "stdout",
     "output_type": "stream",
     "text": [
      "1.0\n",
      "1.0\n"
     ]
    }
   ],
   "source": [
    "clf2 = RandomForestClassifier(n_estimators=100, max_depth=None,min_samples_split=10, random_state=4,n_jobs=-1)\n",
    "clf2 = clf2.fit(X1,y1)\n",
    "score_r2 = clf2.score(X2,y2)\n",
    "print(score_r2)\n",
    "clf22 = RandomForestClassifier(n_estimators=1000, max_depth=None,min_samples_split=10, random_state=4,n_jobs=-1)\n",
    "clf22 = clf22.fit(X1,y1)\n",
    "score_r22 = clf22.score(X2,y2)\n",
    "print(score_r22)"
   ]
  },
  {
   "cell_type": "code",
   "execution_count": 4,
   "id": "094974f3-cc52-4239-9ac1-9dda511461bf",
   "metadata": {},
   "outputs": [
    {
     "name": "stdout",
     "output_type": "stream",
     "text": [
      "1.0\n",
      "1.0\n"
     ]
    }
   ],
   "source": [
    "score_r2 = clf2.score(X2,y2)\n",
    "print(score_r2)\n",
    "score_r22 = clf22.score(X2,y2)\n",
    "print(score_r22)"
   ]
  },
  {
   "cell_type": "code",
   "execution_count": 6,
   "id": "cba7fff4-55ba-454f-93da-c0aa278fba69",
   "metadata": {},
   "outputs": [
    {
     "name": "stdout",
     "output_type": "stream",
     "text": [
      "0.9933014354066986\n",
      "0.9933014354066986\n"
     ]
    }
   ],
   "source": [
    "## ExtraTree分类器集合\n",
    "clf3 = ExtraTreesClassifier(n_estimators=1000, max_depth=None,min_samples_split=2, random_state=6,n_jobs=-1)\n",
    "scores3 = cross_val_score(clf3, X, y)\n",
    "print(scores3.mean())\n",
    "\n",
    "clf33 = ExtraTreesClassifier(n_estimators=500, max_depth=None,min_samples_split=2, random_state=6,n_jobs=-1)\n",
    "scores33 = cross_val_score(clf33, X, y)\n",
    "print(scores33.mean())"
   ]
  },
  {
   "cell_type": "code",
   "execution_count": 36,
   "id": "13e81fc8-b5e6-4515-a43d-ebe66a1f4691",
   "metadata": {},
   "outputs": [
    {
     "name": "stdout",
     "output_type": "stream",
     "text": [
      "1.0\n",
      "1.0\n"
     ]
    }
   ],
   "source": [
    "clf3 = ExtraTreesClassifier(n_estimators=1000, max_depth=None,min_samples_split=2, random_state=6,n_jobs=-1)\n",
    "clf3 = clf3.fit(X1,y1)\n",
    "score_r = clf3.score(X2,y2)\n",
    "print(score_r)\n",
    "clf33 = ExtraTreesClassifier(n_estimators=500, max_depth=None,min_samples_split=2, random_state=6,n_jobs=-1)\n",
    "clf33 = clf33.fit(X1,y1)\n",
    "score_r = clf33.score(X2,y2)\n",
    "print(score_r)"
   ]
  },
  {
   "cell_type": "code",
   "execution_count": 40,
   "id": "fd8354b0-7d21-45b9-83a2-d6e620292e68",
   "metadata": {},
   "outputs": [
    {
     "name": "stdout",
     "output_type": "stream",
     "text": [
      "0.9933014354066986\n",
      "0.9933014354066986\n"
     ]
    }
   ],
   "source": [
    "clf3 = ExtraTreesClassifier(n_estimators=1000, max_depth=None,min_samples_split=2, random_state=6,n_jobs=-1)\n",
    "scores3 = cross_val_score(clf3, X, y)\n",
    "print(scores3.mean())\n",
    "\n",
    "clf33 = ExtraTreesClassifier(n_estimators=500, max_depth=None,min_samples_split=2, random_state=6,n_jobs=-1)\n",
    "scores33 = cross_val_score(clf33, X, y)\n",
    "print(scores33.mean())"
   ]
  },
  {
   "cell_type": "code",
   "execution_count": 11,
   "id": "c333e519-9d2a-4306-8adc-33278e680cfe",
   "metadata": {},
   "outputs": [
    {
     "data": {
      "text/plain": [
       "1.0"
      ]
     },
     "execution_count": 11,
     "metadata": {},
     "output_type": "execute_result"
    }
   ],
   "source": [
    "clf3 = clf3.fit(X1,y1)\n",
    "score_r = clf3.score(X2,y2)\n",
    "score_r"
   ]
  },
  {
   "cell_type": "code",
   "execution_count": 9,
   "id": "3ee25a83-8d15-419f-b195-9a28ba67940c",
   "metadata": {},
   "outputs": [
    {
     "data": {
      "text/plain": [
       "array([0.98803828, 0.99282297, 0.98724083, 0.98484848, 0.98484848])"
      ]
     },
     "execution_count": 9,
     "metadata": {},
     "output_type": "execute_result"
    }
   ],
   "source": [
    "clf2 = RandomForestClassifier(n_estimators=100, max_depth=None,min_samples_split=10, random_state=4,n_jobs=-1)\n",
    "clf2 = clf2.fit(X1,y1)\n",
    "score_r2 = clf2.score(X1,y1)\n",
    "scores2 = cross_val_score(clf2, X, y)\n",
    "scores2"
   ]
  },
  {
   "cell_type": "code",
   "execution_count": 29,
   "id": "0d54f425-2228-44a5-a8a7-73e172de8730",
   "metadata": {},
   "outputs": [
    {
     "name": "stdout",
     "output_type": "stream",
     "text": [
      "1.0\n"
     ]
    }
   ],
   "source": [
    "clf = ExtraTreesClassifier(n_estimators=1000, max_depth=None,min_samples_split=2, random_state=6,n_jobs=-1)\n",
    "clf = clf3.fit(X,y)\n",
    "score_r = clf3.score(X,y)\n",
    "print(score_r)\n",
    "ans=clf.predict(Xt)"
   ]
  },
  {
   "cell_type": "code",
   "execution_count": 30,
   "id": "b4032076-73c3-4107-a25d-94f2d53104bf",
   "metadata": {},
   "outputs": [
    {
     "data": {
      "text/plain": [
       "array([1, 2, 1, 2, 0, 0, 0, 2, 2, 2, 1, 1, 2, 2, 1, 2, 0, 1, 1, 0, 0, 2,\n",
       "       0, 1, 2, 2, 0, 0, 1, 1, 1, 1, 1, 0, 0, 1, 0, 2, 1, 0, 1, 2, 1, 0,\n",
       "       0, 1, 0, 0, 1, 1, 2, 1, 2, 1, 0, 2, 0, 0, 0, 2, 2, 1, 1, 2, 1, 2,\n",
       "       2, 0, 0, 0, 1, 0, 1, 2, 2, 2, 0, 2, 0, 0, 2, 1, 2, 0, 0, 1, 1, 1,\n",
       "       0, 0, 1, 2, 2, 2, 0, 1, 2, 2, 2, 1, 1, 0, 0, 0, 2, 1, 0, 2, 1, 2,\n",
       "       0, 0, 2, 2, 1, 0, 1, 0, 0, 1, 1, 1, 1, 1, 2, 0, 0, 1, 2, 0, 2, 2,\n",
       "       2, 2, 1, 0, 2, 1, 0, 0, 1, 2, 0, 1, 0, 2, 1, 2, 2, 0, 0, 1, 1, 2,\n",
       "       1, 1, 0, 2, 2, 2, 0, 1, 2, 2, 2, 1, 2, 1, 2, 0, 1, 2, 2, 2, 1, 2,\n",
       "       2, 0, 1, 2, 0, 2, 2, 1, 1, 1, 1, 1, 2, 2, 0, 2, 1, 1, 1, 0, 1, 0,\n",
       "       1, 2, 1, 2, 1, 2, 0, 1, 0, 1, 2, 2, 2, 1, 0, 0, 1, 1, 0, 2, 0, 0,\n",
       "       0, 1, 2, 1, 1, 0, 0, 2, 1, 2, 1, 1, 0, 2, 0, 2, 2, 1, 2, 1, 2, 0,\n",
       "       0, 1, 0, 2, 2, 1, 0, 0, 2, 0, 1, 2, 1, 0, 0, 2, 1, 2, 0, 1, 0, 0,\n",
       "       2, 2, 0, 2, 2, 1, 1, 1, 0, 0, 2, 2, 0, 1, 1, 2, 2, 1, 2, 2, 1, 2,\n",
       "       0, 0, 2, 2, 1, 2, 1, 0, 1, 1, 0, 1, 0, 0, 2, 1, 0, 1, 0, 1, 0, 2,\n",
       "       0, 1, 0, 1, 2, 2, 2, 2, 0, 0, 1, 2, 2, 2, 2, 0, 1, 2, 2, 2, 2, 1,\n",
       "       2, 0, 0, 0, 2, 0, 0, 2, 0, 2, 2, 1, 1, 1, 1, 2, 2, 2, 1, 1, 1, 0,\n",
       "       2, 1, 0, 2, 2, 1, 0, 2, 2, 1, 0, 2, 1, 2, 1, 1, 1, 0, 2, 1, 2, 0,\n",
       "       0, 2, 0, 1, 1, 2, 1, 0, 1, 2, 1, 0, 0, 1, 1, 1, 2, 1, 2, 1, 0, 1,\n",
       "       0, 1, 1, 2, 2, 0, 1, 0, 0, 0, 1, 2, 1, 0, 2, 2, 2, 2, 1, 2, 0, 2,\n",
       "       2, 2, 2, 0, 2, 0, 2, 2, 0, 2, 1, 2, 2, 0, 2, 0, 1, 2, 0, 1, 1, 2,\n",
       "       0, 2, 0, 0, 2, 2, 0, 1, 2, 0, 2, 1, 2, 0, 1, 1, 1, 2, 0, 2, 2, 1,\n",
       "       1, 1, 1, 2, 0, 2, 0, 2, 1, 2, 2, 2, 1, 2, 2, 0, 1, 1, 2, 1, 2, 2,\n",
       "       2, 0, 1, 2, 1, 1, 1, 1, 2, 2, 0, 0, 2, 0, 2, 2])"
      ]
     },
     "execution_count": 30,
     "metadata": {},
     "output_type": "execute_result"
    }
   ],
   "source": [
    "ans"
   ]
  },
  {
   "cell_type": "code",
   "execution_count": 42,
   "id": "75661b49-3a5e-48c5-b3e1-fe411a1c9a44",
   "metadata": {},
   "outputs": [
    {
     "name": "stdout",
     "output_type": "stream",
     "text": [
      "146 166 188\n"
     ]
    }
   ],
   "source": [
    "a=0\n",
    "b=0\n",
    "c=0\n",
    "for i in ans:\n",
    "    if i == 0:\n",
    "        a=a+1\n",
    "    elif i ==1:\n",
    "        b=b+1\n",
    "    else :\n",
    "        c=c+1\n",
    "print(a,b,c)"
   ]
  },
  {
   "cell_type": "code",
   "execution_count": 35,
   "id": "860505e1-a46e-486e-af10-de64089c35e1",
   "metadata": {},
   "outputs": [],
   "source": [
    "np.savetxt('ans.txt',ans,fmt='%d')"
   ]
  }
 ],
 "metadata": {
  "kernelspec": {
   "display_name": "Python 3 (ipykernel)",
   "language": "python",
   "name": "python3"
  },
  "language_info": {
   "codemirror_mode": {
    "name": "ipython",
    "version": 3
   },
   "file_extension": ".py",
   "mimetype": "text/x-python",
   "name": "python",
   "nbconvert_exporter": "python",
   "pygments_lexer": "ipython3",
   "version": "3.8.12"
  }
 },
 "nbformat": 4,
 "nbformat_minor": 5
}
