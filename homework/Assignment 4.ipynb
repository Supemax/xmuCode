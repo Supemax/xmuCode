{
 "cells": [
  {
   "cell_type": "markdown",
   "metadata": {},
   "source": [
    "# Assignment 4: BigGAN by TensorFlow\n",
    "\n",
    "In this assignment, let's explore what will happen if we change the truncation factor and the noise, while holding the class vector constant.\n",
    "\n",
    "Before doing this assignment, please go though BigGAN.ipynb and check how to use the pretrained model to generate iamges with specific class.\n",
    "\n",
    "This assignment consists of the following tasks required to achieve the goal described above:\n",
    "\n",
    ">1. Generate 10 different truncation factors in the interval (0, 1]. (20 marks)\n",
    "2. For each truncation factor, generate 5 different noise vectors using that truncation factor. (20 marks)\n",
    "3. Create one-hot-encoded vector for the class label \"mushroom\". (20 marks)\n",
    "4. Given all the inputs, generate and plot 50 different images of mushrooms. (20 marks)\n",
    "5. Make a conclusion about relationship between the truncation factor and the model output. (20 marks)\n",
    "\n",
    "While not required to accomplish this assignment, reading the original paper may help gaining a deeper understanding of this model's inner workings. https://arxiv.org/abs/1809.11096"
   ]
  },
  {
   "cell_type": "code",
   "execution_count": 3,
   "metadata": {},
   "outputs": [],
   "source": [
    "# Tensorflow module path for 512x512 BigGAN-deep\n",
    "module_path = 'https://tfhub.dev/deepmind/biggan-deep-512/1'    \n",
    "\n",
    "# Assignment hyperparams\n",
    "factors_count = 10\n",
    "samples_per_factor = 5\n",
    "samples_count = factors_count * samples_per_factor"
   ]
  },
  {
   "cell_type": "markdown",
   "metadata": {},
   "source": [
    "# Task 1 (20 marks)\n",
    "\n",
    "In this task, you need to generate an array of 10 different truncation factors in the interval (0, 1].\n",
    "Note that factor = 0 is invalid because the distribution collapses to a single possible value. Factor can be as close to zero as you would like, however. \n",
    "\n",
    "An excellent idea is to use this function: https://docs.scipy.org/doc/numpy/reference/generated/numpy.linspace.html\n",
    "\n",
    "Expected shape of the array: `(10,)`"
   ]
  },
  {
   "cell_type": "code",
   "execution_count": null,
   "metadata": {},
   "outputs": [],
   "source": [
    "# Enter your code for task 1 here.\n",
    "# Create additional cells directly below this one, if needed."
   ]
  },
  {
   "cell_type": "markdown",
   "metadata": {},
   "source": [
    "# Task 2 (20 marks)\n",
    "\n",
    "Great, let's make some noise now!\n",
    "\n",
    "You need to generate an array of noise vectors. However, now is also a good time to talk about the batch size. Recall that the truncation factor is used to generate the noise, but it's also an input to the model itself. Even though, the goal is to generate 50 images, the model is using the same truncation factor for all images generated in a single batch. This means that to generate images for 10 different truncation factors, you will need to evaluate the model with 10 separate batches. In summary, you need 10 batches with 5 noise vectors in each batch. \n",
    "\n",
    "You need to use a different random seed to generate the noise vectors for every batch. Otherwise, the noise vectors will be similar between batches, and you won't see enough diversity in the images to make conclusions. Also, use the truncation threshold of 5 to get some low-probability noise vectors into the batch.\n",
    "\n",
    "Useful functions for this task:\n",
    "* `random.randint`\n",
    "* `random_noise` from BigGAN.ipynb\n",
    "* `numpy.concatenate`\n",
    "* `numpy.reshape`\n",
    "\n",
    "Expected shape of the array: `(10, 5, 128)`"
   ]
  },
  {
   "cell_type": "code",
   "execution_count": null,
   "metadata": {},
   "outputs": [],
   "source": [
    "# Enter your code for task 2 here.\n",
    "# Create additional cells directly below this one, if needed."
   ]
  },
  {
   "cell_type": "markdown",
   "metadata": {},
   "source": [
    "# Task 3 (20 marks)\n",
    "\n",
    "Amazing work! Let's take care of the mushrooms now.\n",
    "\n",
    "You need a one-hot-encoded array that corresponds to the mushroom class. As we have discussed in the previous task, there will be 10 batches of samples. In each batch, there are 5 samples, but all of them have the same class.\n",
    "\n",
    "Useful functions for this task:\n",
    "* `get_classes`\n",
    "* `class_labels_to_ids`\n",
    "* `class_ids_to_one_hot`\n",
    "* `numpy.repeat`\n",
    "\n",
    "Expected shape of the array: `(10, 5, 1000)`"
   ]
  },
  {
   "cell_type": "code",
   "execution_count": null,
   "metadata": {},
   "outputs": [],
   "source": [
    "# Enter your code for task 3 here.\n",
    "# Create additional cells directly below this one, if needed."
   ]
  },
  {
   "cell_type": "markdown",
   "metadata": {},
   "source": [
    "# Task 4 (20 marks)\n",
    "\n",
    "Very exciting! We are ready to take a walk in the forest.\n",
    "\n",
    "You now have three arrays (class, noise, factor) with inputs for each of the 10 batches. \n",
    "\n",
    "Here are the steps for this task:\n",
    "1. Iterate over input arrays and feed the Tensorflow model with one batch a time.\n",
    "2. Collect the output of BigGAN for each batch into a list.\n",
    "3. Concatenate the list into a single 4-dimensional array of images.\n",
    "4. Plot the images in a grid.\n",
    "\n",
    "Running the model should take about 1-2 mins with 8-core CPU. This step will also require up to 10GB of RAM. It's highly recommended to run this in the cloud.\n",
    "\n",
    "Plot images in a grid, where each row has the same truncation factor but different random noise.\n",
    "\n",
    "Useful functions for this task:\n",
    "* `generate_images`\n",
    "* `numpy.concatenate`\n",
    "* `plot_strided_grid`"
   ]
  },
  {
   "cell_type": "code",
   "execution_count": null,
   "metadata": {},
   "outputs": [],
   "source": [
    "# Enter your code for task 4 here.\n",
    "# Create additional cells directly below this one, if needed."
   ]
  },
  {
   "cell_type": "markdown",
   "metadata": {},
   "source": [
    "# Task 5 (20 marks)\n",
    "\n",
    "Wow, so many mushrooms. \n",
    "\n",
    "This has been an amazing adventure, let's make some conclusions.\n",
    "Here are some questions that you should answer, but also feel free to add any other thoughts that you have:\n",
    "1. What's the relationship between truncation and image diversity?\n",
    "2. What's the relationship between truncation and image quality?\n",
    "3. Have you seen any extremely unusual samples in the batch?\n",
    "4. Why is truncation affecting the batch in this way?\n",
    "\n",
    "If it's not quite clear what to make out of the 50 images, re-run the procedure with a different seed / more truncation factors to see the trend. Repeat until a pattern starts to emerge. If you have created the noise vectors as required, you should see the pattern within 2-3 batches."
   ]
  },
  {
   "cell_type": "markdown",
   "metadata": {},
   "source": [
    "Write your answer in this markdown cell."
   ]
  }
 ],
 "metadata": {
  "kernelspec": {
   "display_name": "Python 3",
   "language": "python",
   "name": "python3"
  },
  "language_info": {
   "codemirror_mode": {
    "name": "ipython",
    "version": 3
   },
   "file_extension": ".py",
   "mimetype": "text/x-python",
   "name": "python",
   "nbconvert_exporter": "python",
   "pygments_lexer": "ipython3",
   "version": "3.7.3"
  }
 },
 "nbformat": 4,
 "nbformat_minor": 4
}
